{
 "cells": [
  {
   "cell_type": "code",
   "execution_count": 3,
   "metadata": {
    "collapsed": true
   },
   "outputs": [],
   "source": [
    "import pandas\n",
    "import numpy\n",
    "import matplotlib.pyplot as plt"
   ]
  },
  {
   "cell_type": "code",
   "execution_count": 4,
   "metadata": {
    "collapsed": true
   },
   "outputs": [],
   "source": [
    "def clean_data(x):\n",
    "    x = x.replace(' ', '')\n",
    "    if( x.isalpha() == True):\n",
    "        return x\n",
    "    if (x.isnumeric() == False):\n",
    "        return numpy.NaN\n",
    "    else:\n",
    "        return int (x)"
   ]
  },
  {
   "cell_type": "code",
   "execution_count": 5,
   "metadata": {
    "collapsed": true
   },
   "outputs": [],
   "source": [
    "def filter_data(source):\n",
    "    data = pandas.read_csv(\"Data\\\\\" + source)\n",
    "    data = data.rename(str.strip, axis = 'columns')\n",
    "    data = data.set_index('Country')\n",
    "    for colname in data.columns:\n",
    "        if not (colname.isnumeric()):\n",
    "            data = data.drop( columns = colname )\n",
    "    # Let's clean the data\n",
    "    data = data.applymap(clean_data).dropna().transpose()\n",
    "    return data"
   ]
  },
  {
   "cell_type": "code",
   "execution_count": 36,
   "metadata": {
    "collapsed": true
   },
   "outputs": [],
   "source": [
    "def country_plot(country, start, end):\n",
    "    plot_ = plt.subplot()\n",
    "    plt.plot(data[0][[country]], label = 'Deaths')\n",
    "    plt.plot(data[1][[country]], label = 'New Infected')\n",
    "    plt.plot(data[2][[country]], label = 'Total')\n",
    "    plot_.legend()\n",
    "    plot_.set_xlim(left=start, right=end)\n",
    "    plt.show()"
   ]
  },
  {
   "cell_type": "code",
   "execution_count": 37,
   "metadata": {},
   "outputs": [],
   "source": [
    "data = []\n",
    "data.append(filter_data('AIDS-related deaths_Number of AIDS-related deaths_Population_ All ages.csv'))\n",
    "data.append(filter_data('New HIV infections_Number of new HIV infections_Population_ All ages.csv'))\n",
    "data.append(filter_data('People living with HIV_Number of people living with HIV_Population_ All ages.csv'))"
   ]
  },
  {
   "cell_type": "code",
   "execution_count": 39,
   "metadata": {},
   "outputs": [
    {
     "data": {
      "image/png": "[encoded data removed]",
      "text/plain": [
       "<matplotlib.figure.Figure at 0x196ea7ab898>"
      ]
     },
     "metadata": {},
     "output_type": "display_data"
    }
   ],
   "source": [
    "country_plot('India', 1990, 2015)"
   ]
  },
  {
   "cell_type": "code",
   "execution_count": null,
   "metadata": {
    "collapsed": true
   },
   "outputs": [],
   "source": []
  }
 ],
 "metadata": {
  "kernelspec": {
   "display_name": "Python 3",
   "language": "python",
   "name": "python3"
  },
  "language_info": {
   "codemirror_mode": {
    "name": "ipython",
    "version": 3
   },
   "file_extension": ".py",
   "mimetype": "text/x-python",
   "name": "python",
   "nbconvert_exporter": "python",
   "pygments_lexer": "ipython3",
   "version": "3.6.3"
  }
 },
 "nbformat": 4,
 "nbformat_minor": 2
}
