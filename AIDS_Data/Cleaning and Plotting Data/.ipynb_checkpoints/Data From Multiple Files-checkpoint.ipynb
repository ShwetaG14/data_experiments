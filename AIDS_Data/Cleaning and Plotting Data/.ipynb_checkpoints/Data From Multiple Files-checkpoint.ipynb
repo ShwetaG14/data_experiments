{
 "cells": [
  {
   "cell_type": "code",
   "execution_count": 1,
   "metadata": {
    "collapsed": true
   },
   "outputs": [],
   "source": [
    "import pandas\n",
    "import numpy\n",
    "import plotly.plotly as py\n",
    "import plotly.graph_objs as go"
   ]
  },
  {
   "cell_type": "code",
   "execution_count": 2,
   "metadata": {
    "collapsed": true
   },
   "outputs": [],
   "source": [
    "def clean_data(x):\n",
    "    x = x.replace(' ', '')\n",
    "    if( x.isalpha() == True):\n",
    "        return x\n",
    "    if (x.isnumeric() == False):\n",
    "        return numpy.NaN\n",
    "    else:\n",
    "        return int (x)"
   ]
  },
  {
   "cell_type": "code",
   "execution_count": 3,
   "metadata": {
    "collapsed": true
   },
   "outputs": [],
   "source": [
    "def filter_data(source, start, end):\n",
    "    data = pandas.read_csv(\"Data\\\\\" + source)\n",
    "    data = data.rename(str.strip, axis = 'columns')\n",
    "    data = data.set_index('Country')\n",
    "    for colname in data.columns:\n",
    "        if not (colname.isnumeric()):\n",
    "            data = data.drop( columns = colname )\n",
    "    # Let's clean the data\n",
    "    data = data.applymap(clean_data).dropna().transpose()\n",
    "    data = data.truncate(start, end)\n",
    "    return data"
   ]
  },
  {
   "cell_type": "code",
   "execution_count": 4,
   "metadata": {
    "collapsed": true
   },
   "outputs": [],
   "source": [
    "def delta_percentage(data, country):\n",
    "    x = []\n",
    "    for year in range(1990, 2016):\n",
    "        x.append( ( ( data[country][str(year + 1)] - data[country][str(year)] ) / data[country][str(year)] ) * 100 )\n",
    "    return x"
   ]
  },
  {
   "cell_type": "code",
   "execution_count": 5,
   "metadata": {
    "collapsed": true
   },
   "outputs": [],
   "source": [
    "data = []\n",
    "start = '1990' \n",
    "end = '2016'\n",
    "data.append(filter_data('AIDS-related deaths_Number of AIDS-related deaths_Population_ All ages.csv', start, end))\n",
    "data.append(filter_data('New HIV infections_Number of new HIV infections_Population_ All ages.csv', start, end))\n",
    "data.append(filter_data('People living with HIV_Number of people living with HIV_Population_ All ages.csv', start, end))"
   ]
  },
  {
   "cell_type": "code",
   "execution_count": 56,
   "metadata": {},
   "outputs": [
    {
     "data": {
      "text/html": [
       "<iframe id=\"igraph\" scrolling=\"no\" style=\"border:none;\" seamless=\"seamless\" src=\"https://plot.ly/~abotiamnot/24.embed\" height=\"525px\" width=\"100%\"></iframe>"
      ],
      "text/plain": [
       "<plotly.tools.PlotlyDisplay object>"
      ]
     },
     "execution_count": 56,
     "metadata": {},
     "output_type": "execute_result"
    }
   ],
   "source": [
    "trace =[]\n",
    "for name in data[0].columns:\n",
    "    data_gradient = delta_percentage(data[0], name)\n",
    "    trace.append(go.Scatter(x = list(range(1991, 2017)), y = data_gradient, mode = 'lines', name = name))\n",
    "py.iplot(trace, filename='HIV Deaths Gradient')"
   ]
  },
  {
   "cell_type": "code",
   "execution_count": 57,
   "metadata": {},
   "outputs": [
    {
     "data": {
      "text/html": [
       "<iframe id=\"igraph\" scrolling=\"no\" style=\"border:none;\" seamless=\"seamless\" src=\"https://plot.ly/~abotiamnot/26.embed\" height=\"525px\" width=\"100%\"></iframe>"
      ],
      "text/plain": [
       "<plotly.tools.PlotlyDisplay object>"
      ]
     },
     "execution_count": 57,
     "metadata": {},
     "output_type": "execute_result"
    }
   ],
   "source": [
    "trace =[]\n",
    "for name in data[1].columns:\n",
    "    data_gradient = delta_percentage(data[1], name)\n",
    "    trace.append(go.Scatter(x = list(range(1991, 2017)), y = data_gradient, mode = 'lines', name = name))\n",
    "py.iplot(trace, filename='HIV New Infections Gradient')"
   ]
  },
  {
   "cell_type": "code",
   "execution_count": 58,
   "metadata": {
    "scrolled": true
   },
   "outputs": [
    {
     "data": {
      "text/html": [
       "<iframe id=\"igraph\" scrolling=\"no\" style=\"border:none;\" seamless=\"seamless\" src=\"https://plot.ly/~abotiamnot/28.embed\" height=\"525px\" width=\"100%\"></iframe>"
      ],
      "text/plain": [
       "<plotly.tools.PlotlyDisplay object>"
      ]
     },
     "execution_count": 58,
     "metadata": {},
     "output_type": "execute_result"
    }
   ],
   "source": [
    "trace =[]\n",
    "for name in data[2].columns:\n",
    "    data_gradient = delta_percentage(data[2], name)\n",
    "    trace.append(go.Scatter(x = list(range(1991, 2017)), y = data_gradient, mode = 'lines', name = name))\n",
    "py.iplot(trace, filename='HIV Total Population Gradient')"
   ]
  },
  {
   "cell_type": "code",
   "execution_count": 13,
   "metadata": {},
   "outputs": [
    {
     "data": {
      "text/html": [
       "<iframe id=\"igraph\" scrolling=\"no\" style=\"border:none;\" seamless=\"seamless\" src=\"https://plot.ly/~abotiamnot/22.embed\" height=\"525px\" width=\"100%\"></iframe>"
      ],
      "text/plain": [
       "<plotly.tools.PlotlyDisplay object>"
      ]
     },
     "execution_count": 13,
     "metadata": {},
     "output_type": "execute_result"
    }
   ],
   "source": [
    "trace = []\n",
    "for country in data[0].columns:\n",
    "    trace.append(go.Scatter( x = (list(range(1990, 2017))), y = list(data[0][country]), mode = 'lines', name = country))\n",
    "py.iplot(trace, filename = 'HIV Total Deaths')"
   ]
  },
  {
   "cell_type": "code",
   "execution_count": 14,
   "metadata": {},
   "outputs": [
    {
     "data": {
      "text/html": [
       "<iframe id=\"igraph\" scrolling=\"no\" style=\"border:none;\" seamless=\"seamless\" src=\"https://plot.ly/~abotiamnot/30.embed\" height=\"525px\" width=\"100%\"></iframe>"
      ],
      "text/plain": [
       "<plotly.tools.PlotlyDisplay object>"
      ]
     },
     "execution_count": 14,
     "metadata": {},
     "output_type": "execute_result"
    }
   ],
   "source": [
    "trace = []\n",
    "for country in data[1].columns:\n",
    "    trace.append(go.Scatter( x = (list(range(1990, 2017))), y = list(data[1][country]), mode = 'lines', name = country))\n",
    "py.iplot(trace, filename = 'HIV Total New Infections')"
   ]
  },
  {
   "cell_type": "code",
   "execution_count": 15,
   "metadata": {
    "scrolled": true
   },
   "outputs": [
    {
     "data": {
      "text/html": [
       "<iframe id=\"igraph\" scrolling=\"no\" style=\"border:none;\" seamless=\"seamless\" src=\"https://plot.ly/~abotiamnot/32.embed\" height=\"525px\" width=\"100%\"></iframe>"
      ],
      "text/plain": [
       "<plotly.tools.PlotlyDisplay object>"
      ]
     },
     "execution_count": 15,
     "metadata": {},
     "output_type": "execute_result"
    }
   ],
   "source": [
    "trace = []\n",
    "for country in data[2].columns:\n",
    "    trace.append(go.Scatter( x = (list(range(1990, 2017))), y = list(data[2][country]), mode = 'lines', name = country))\n",
    "py.iplot(trace, filename = 'HIV Total Population')"
   ]
  },
  {
   "cell_type": "code",
   "execution_count": 59,
   "metadata": {},
   "outputs": [
    {
     "data": {
      "text/html": [
       "<iframe id=\"igraph\" scrolling=\"no\" style=\"border:none;\" seamless=\"seamless\" src=\"https://plot.ly/~abotiamnot/36.embed\" height=\"525px\" width=\"100%\"></iframe>"
      ],
      "text/plain": [
       "<plotly.tools.PlotlyDisplay object>"
      ]
     },
     "execution_count": 59,
     "metadata": {},
     "output_type": "execute_result"
    }
   ],
   "source": [
    "trace = []\n",
    "y = ['Zimbabwe', 'Ghana', 'Mali', 'Nigeria', 'Cameroon', 'South Africa', 'Botswana', 'Ethiopia', 'India']\n",
    "for country in y:\n",
    "    data_gradient = delta_percentage(data[0], country)\n",
    "    trace.append(go.Scatter(x = list(range(1991, 2017)), y = data_gradient, mode = 'lines', name = country))\n",
    "py.iplot(trace, filename='African Countries vs India Death Gradient')"
   ]
  },
  {
   "cell_type": "code",
   "execution_count": 60,
   "metadata": {},
   "outputs": [
    {
     "data": {
      "text/html": [
       "<iframe id=\"igraph\" scrolling=\"no\" style=\"border:none;\" seamless=\"seamless\" src=\"https://plot.ly/~abotiamnot/38.embed\" height=\"525px\" width=\"100%\"></iframe>"
      ],
      "text/plain": [
       "<plotly.tools.PlotlyDisplay object>"
      ]
     },
     "execution_count": 60,
     "metadata": {},
     "output_type": "execute_result"
    }
   ],
   "source": [
    "trace = []\n",
    "y = ['Zimbabwe', 'Ghana', 'Mali', 'Nigeria', 'Cameroon', 'South Africa', 'Botswana', 'Ethiopia', 'India']\n",
    "for country in y:\n",
    "    data_gradient = delta_percentage(data[1], country)\n",
    "    trace.append(go.Scatter(x = list(range(1991, 2017)), y = data_gradient, mode = 'lines', name = country))\n",
    "py.iplot(trace, filename='African Countries vs India New Infection Gradient')"
   ]
  },
  {
   "cell_type": "code",
   "execution_count": 61,
   "metadata": {},
   "outputs": [
    {
     "data": {
      "text/html": [
       "<iframe id=\"igraph\" scrolling=\"no\" style=\"border:none;\" seamless=\"seamless\" src=\"https://plot.ly/~abotiamnot/40.embed\" height=\"525px\" width=\"100%\"></iframe>"
      ],
      "text/plain": [
       "<plotly.tools.PlotlyDisplay object>"
      ]
     },
     "execution_count": 61,
     "metadata": {},
     "output_type": "execute_result"
    }
   ],
   "source": [
    "trace = []\n",
    "y = ['Zimbabwe', 'Ghana', 'Mali', 'Nigeria', 'Cameroon', 'South Africa', 'Botswana', 'Ethiopia', 'India']\n",
    "for country in y:\n",
    "    data_gradient = delta_percentage(data[2], country)\n",
    "    trace.append(go.Scatter(x = list(range(1991, 2017)), y = data_gradient, mode = 'lines', name = country))\n",
    "py.iplot(trace, filename='African Countries vs India Population Gradient')"
   ]
  },
  {
   "cell_type": "code",
   "execution_count": 92,
   "metadata": {
    "collapsed": true
   },
   "outputs": [],
   "source": [
    "y = ['Zimbabwe', 'Ghana', 'Mali', 'Nigeria', 'Cameroon', 'South Africa', 'Botswana', 'Ethiopia', 'India']\n",
    "store_var = dict.fromkeys(y, 0)\n",
    "for country in y:\n",
    "    data_gradient = delta_percentage(data[0], country)\n",
    "    counter = 0\n",
    "    for data_gradient_num in data_gradient:\n",
    "        if(data_gradient_num > 0):\n",
    "            counter = counter + 1\n",
    "        if(data_gradient_num < 0):\n",
    "            counter = counter - 1 \n",
    "    store_var[country] = counter"
   ]
  },
  {
   "cell_type": "code",
   "execution_count": 93,
   "metadata": {},
   "outputs": [
    {
     "data": {
      "text/plain": [
       "{'Botswana': -1,\n",
       " 'Cameroon': 14,\n",
       " 'Ethiopia': 1,\n",
       " 'Ghana': 2,\n",
       " 'India': 6,\n",
       " 'Mali': 10,\n",
       " 'Nigeria': 12,\n",
       " 'South Africa': 9,\n",
       " 'Zimbabwe': 0}"
      ]
     },
     "execution_count": 93,
     "metadata": {},
     "output_type": "execute_result"
    }
   ],
   "source": [
    "store_var"
   ]
  },
  {
   "cell_type": "code",
   "execution_count": 98,
   "metadata": {},
   "outputs": [],
   "source": [
    "y = ['Zimbabwe', 'Ghana', 'Mali', 'Nigeria', 'Cameroon', 'South Africa', 'Botswana', 'Ethiopia', 'India']\n",
    "store_var = dict.fromkeys(y, 0)\n",
    "for country in y:\n",
    "    data_gradient = delta_percentage(data[2], country)\n",
    "    counter = 0\n",
    "    for data_gradient_num in data_gradient:\n",
    "        if(data_gradient_num > 0):\n",
    "            counter = counter + 1 * (len(data_gradient) + 1 - data_gradient.index(data_gradient_num))\n",
    "        if(data_gradient_num < 0):\n",
    "            counter = counter - 1 * (len(data_gradient) + 1 - data_gradient.index(data_gradient_num))\n",
    "    store_var[country] = counter"
   ]
  },
  {
   "cell_type": "code",
   "execution_count": 99,
   "metadata": {},
   "outputs": [
    {
     "data": {
      "text/plain": [
       "{'Botswana': 279,\n",
       " 'Cameroon': 336,\n",
       " 'Ethiopia': 66,\n",
       " 'Ghana': 56,\n",
       " 'India': 255,\n",
       " 'Mali': 258,\n",
       " 'Nigeria': 276,\n",
       " 'South Africa': 377,\n",
       " 'Zimbabwe': 114}"
      ]
     },
     "execution_count": 99,
     "metadata": {},
     "output_type": "execute_result"
    }
   ],
   "source": [
    "store_var"
   ]
  },
  {
   "cell_type": "code",
   "execution_count": null,
   "metadata": {
    "collapsed": true
   },
   "outputs": [],
   "source": []
  }
 ],
 "metadata": {
  "kernelspec": {
   "display_name": "Python 3",
   "language": "python",
   "name": "python3"
  },
  "language_info": {
   "codemirror_mode": {
    "name": "ipython",
    "version": 3
   },
   "file_extension": ".py",
   "mimetype": "text/x-python",
   "name": "python",
   "nbconvert_exporter": "python",
   "pygments_lexer": "ipython3",
   "version": "3.6.3"
  }
 },
 "nbformat": 4,
 "nbformat_minor": 2
}
